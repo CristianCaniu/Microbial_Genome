{
 "cells": [
  {
   "cell_type": "markdown",
   "metadata": {},
   "source": [
    "### Links\n",
    "\n",
    "https://machinelearningmastery.com/check-point-deep-learning-models-keras/\n",
    "\n",
    "https://towardsdatascience.com/handling-class-imbalanced-data-using-a-loss-specifically-made-for-it-6e58fd65ffab\n",
    "\n",
    "### Tasks\n",
    "\n",
    "#### Include check points to automatically save only the best model\n",
    "We use the best recorded model for evaluations \n",
    "\n",
    "#### Explore the data\n",
    "We have found that the MICs are discrete multiples of 2. Thus we can interpret the problem in terms of classification\n",
    "\n",
    "#### Try more k-mears\n",
    "We are working with 4-mers but we want to go to 10-mers\n",
    "\n",
    "#### Try unbalanced class approach\n",
    "With raw approach we find decent results. Check the link above\n",
    "\n",
    "#### Try to comput the accuracy considering +/- 1 2-fold \n",
    "\n",
    "Reproduce the Fig. 3 of the paper\n",
    "\n",
    "#### Try CNN-1D, specially when we use the 10-mers since the number of bins is going to increase a lot"
   ]
  },
  {
   "cell_type": "code",
   "execution_count": 146,
   "metadata": {},
   "outputs": [],
   "source": [
    "import pandas as pd\n",
    "import numpy as np\n",
    "import matplotlib.pyplot as plt\n",
    "\n",
    "from keras.layers.convolutional import Conv1D\n",
    "from keras.models import Sequential, load_model\n",
    "from keras.layers import Dense, Dropout    \n",
    "from keras.optimizers import Adam, SGD\n",
    "from keras.callbacks import EarlyStopping, ModelCheckpoint, ReduceLROnPlateau\n",
    "\n",
    "from plotly.subplots import make_subplots\n",
    "import plotly.graph_objects as go\n",
    "\n",
    "from sklearn.model_selection import train_test_split\n",
    "from sklearn.preprocessing import OneHotEncoder, LabelEncoder"
   ]
  },
  {
   "cell_type": "code",
   "execution_count": 2,
   "metadata": {},
   "outputs": [],
   "source": [
    "path_local = \"../data\"\n",
    "data1 = pd.read_csv(f\"{path_local}/tetramers_mics_matrix.csv\", delimiter=',', index_col=0)"
   ]
  },
  {
   "cell_type": "code",
   "execution_count": 3,
   "metadata": {},
   "outputs": [
    {
     "data": {
      "text/html": [
       "<div>\n",
       "<style scoped>\n",
       "    .dataframe tbody tr th:only-of-type {\n",
       "        vertical-align: middle;\n",
       "    }\n",
       "\n",
       "    .dataframe tbody tr th {\n",
       "        vertical-align: top;\n",
       "    }\n",
       "\n",
       "    .dataframe thead th {\n",
       "        text-align: right;\n",
       "    }\n",
       "</style>\n",
       "<table border=\"1\" class=\"dataframe\">\n",
       "  <thead>\n",
       "    <tr style=\"text-align: right;\">\n",
       "      <th></th>\n",
       "      <th>AAAA</th>\n",
       "      <th>AAAC</th>\n",
       "      <th>AAAG</th>\n",
       "      <th>AAAT</th>\n",
       "      <th>AACA</th>\n",
       "      <th>AACC</th>\n",
       "      <th>AACG</th>\n",
       "      <th>AACT</th>\n",
       "      <th>AAGA</th>\n",
       "      <th>AAGC</th>\n",
       "      <th>...</th>\n",
       "      <th>nalidixic acid</th>\n",
       "      <th>ampicillin</th>\n",
       "      <th>sulfisoxazole</th>\n",
       "      <th>cefoxitin</th>\n",
       "      <th>tetracycline</th>\n",
       "      <th>ceftiofur</th>\n",
       "      <th>amoxicillin/clavulanic acid</th>\n",
       "      <th>streptomycin</th>\n",
       "      <th>azithromycin</th>\n",
       "      <th>kanamycin</th>\n",
       "    </tr>\n",
       "  </thead>\n",
       "  <tbody>\n",
       "    <tr>\n",
       "      <th>0</th>\n",
       "      <td>0.010195</td>\n",
       "      <td>0.009592</td>\n",
       "      <td>0.009397</td>\n",
       "      <td>0.010176</td>\n",
       "      <td>0.007437</td>\n",
       "      <td>0.007577</td>\n",
       "      <td>0.010206</td>\n",
       "      <td>0.005423</td>\n",
       "      <td>0.006263</td>\n",
       "      <td>0.008236</td>\n",
       "      <td>...</td>\n",
       "      <td>4.0</td>\n",
       "      <td>1.0</td>\n",
       "      <td>16.0</td>\n",
       "      <td>4.0</td>\n",
       "      <td>32.0</td>\n",
       "      <td>0.5</td>\n",
       "      <td>1.0</td>\n",
       "      <td>8.0</td>\n",
       "      <td>8.0</td>\n",
       "      <td>NaN</td>\n",
       "    </tr>\n",
       "    <tr>\n",
       "      <th>1</th>\n",
       "      <td>0.010449</td>\n",
       "      <td>0.009637</td>\n",
       "      <td>0.009843</td>\n",
       "      <td>0.010463</td>\n",
       "      <td>0.007509</td>\n",
       "      <td>0.007464</td>\n",
       "      <td>0.010087</td>\n",
       "      <td>0.005524</td>\n",
       "      <td>0.006698</td>\n",
       "      <td>0.008495</td>\n",
       "      <td>...</td>\n",
       "      <td>4.0</td>\n",
       "      <td>1.0</td>\n",
       "      <td>256.0</td>\n",
       "      <td>4.0</td>\n",
       "      <td>32.0</td>\n",
       "      <td>1.0</td>\n",
       "      <td>1.0</td>\n",
       "      <td>64.0</td>\n",
       "      <td>8.0</td>\n",
       "      <td>NaN</td>\n",
       "    </tr>\n",
       "    <tr>\n",
       "      <th>2</th>\n",
       "      <td>0.010097</td>\n",
       "      <td>0.009737</td>\n",
       "      <td>0.009135</td>\n",
       "      <td>0.010075</td>\n",
       "      <td>0.007710</td>\n",
       "      <td>0.007822</td>\n",
       "      <td>0.010148</td>\n",
       "      <td>0.005425</td>\n",
       "      <td>0.006208</td>\n",
       "      <td>0.008100</td>\n",
       "      <td>...</td>\n",
       "      <td>4.0</td>\n",
       "      <td>1.0</td>\n",
       "      <td>32.0</td>\n",
       "      <td>4.0</td>\n",
       "      <td>32.0</td>\n",
       "      <td>0.5</td>\n",
       "      <td>1.0</td>\n",
       "      <td>4.0</td>\n",
       "      <td>8.0</td>\n",
       "      <td>NaN</td>\n",
       "    </tr>\n",
       "    <tr>\n",
       "      <th>3</th>\n",
       "      <td>0.010247</td>\n",
       "      <td>0.009551</td>\n",
       "      <td>0.009677</td>\n",
       "      <td>0.010202</td>\n",
       "      <td>0.007336</td>\n",
       "      <td>0.007510</td>\n",
       "      <td>0.010134</td>\n",
       "      <td>0.005421</td>\n",
       "      <td>0.006495</td>\n",
       "      <td>0.008521</td>\n",
       "      <td>...</td>\n",
       "      <td>4.0</td>\n",
       "      <td>1.0</td>\n",
       "      <td>32.0</td>\n",
       "      <td>4.0</td>\n",
       "      <td>32.0</td>\n",
       "      <td>1.0</td>\n",
       "      <td>1.0</td>\n",
       "      <td>8.0</td>\n",
       "      <td>8.0</td>\n",
       "      <td>NaN</td>\n",
       "    </tr>\n",
       "    <tr>\n",
       "      <th>4</th>\n",
       "      <td>0.010307</td>\n",
       "      <td>0.009660</td>\n",
       "      <td>0.009587</td>\n",
       "      <td>0.010329</td>\n",
       "      <td>0.007443</td>\n",
       "      <td>0.007574</td>\n",
       "      <td>0.010206</td>\n",
       "      <td>0.005528</td>\n",
       "      <td>0.006474</td>\n",
       "      <td>0.008381</td>\n",
       "      <td>...</td>\n",
       "      <td>32.0</td>\n",
       "      <td>1.0</td>\n",
       "      <td>64.0</td>\n",
       "      <td>2.0</td>\n",
       "      <td>4.0</td>\n",
       "      <td>0.5</td>\n",
       "      <td>1.0</td>\n",
       "      <td>4.0</td>\n",
       "      <td>4.0</td>\n",
       "      <td>NaN</td>\n",
       "    </tr>\n",
       "  </tbody>\n",
       "</table>\n",
       "<p>5 rows × 151 columns</p>\n",
       "</div>"
      ],
      "text/plain": [
       "       AAAA      AAAC      AAAG      AAAT      AACA      AACC      AACG  \\\n",
       "0  0.010195  0.009592  0.009397  0.010176  0.007437  0.007577  0.010206   \n",
       "1  0.010449  0.009637  0.009843  0.010463  0.007509  0.007464  0.010087   \n",
       "2  0.010097  0.009737  0.009135  0.010075  0.007710  0.007822  0.010148   \n",
       "3  0.010247  0.009551  0.009677  0.010202  0.007336  0.007510  0.010134   \n",
       "4  0.010307  0.009660  0.009587  0.010329  0.007443  0.007574  0.010206   \n",
       "\n",
       "       AACT      AAGA      AAGC  ...  nalidixic acid  ampicillin  \\\n",
       "0  0.005423  0.006263  0.008236  ...             4.0         1.0   \n",
       "1  0.005524  0.006698  0.008495  ...             4.0         1.0   \n",
       "2  0.005425  0.006208  0.008100  ...             4.0         1.0   \n",
       "3  0.005421  0.006495  0.008521  ...             4.0         1.0   \n",
       "4  0.005528  0.006474  0.008381  ...            32.0         1.0   \n",
       "\n",
       "   sulfisoxazole  cefoxitin  tetracycline  ceftiofur  \\\n",
       "0           16.0        4.0          32.0        0.5   \n",
       "1          256.0        4.0          32.0        1.0   \n",
       "2           32.0        4.0          32.0        0.5   \n",
       "3           32.0        4.0          32.0        1.0   \n",
       "4           64.0        2.0           4.0        0.5   \n",
       "\n",
       "   amoxicillin/clavulanic acid  streptomycin  azithromycin  kanamycin  \n",
       "0                          1.0           8.0           8.0        NaN  \n",
       "1                          1.0          64.0           8.0        NaN  \n",
       "2                          1.0           4.0           8.0        NaN  \n",
       "3                          1.0           8.0           8.0        NaN  \n",
       "4                          1.0           4.0           4.0        NaN  \n",
       "\n",
       "[5 rows x 151 columns]"
      ]
     },
     "execution_count": 3,
     "metadata": {},
     "output_type": "execute_result"
    }
   ],
   "source": [
    "data1.head(n=5)"
   ]
  },
  {
   "cell_type": "markdown",
   "metadata": {},
   "source": [
    "#### simple visualization"
   ]
  },
  {
   "cell_type": "code",
   "execution_count": 4,
   "metadata": {},
   "outputs": [
    {
     "name": "stdout",
     "output_type": "stream",
     "text": [
      "0 AAAA\n",
      "1 AAAC\n",
      "2 AAAG\n",
      "3 AAAT\n",
      "4 AACA\n",
      "5 AACC\n",
      "6 AACG\n",
      "7 AACT\n",
      "8 AAGA\n",
      "9 AAGC\n",
      "10 AAGG\n",
      "11 AAGT\n",
      "12 AATA\n",
      "13 AATC\n",
      "14 AATG\n",
      "15 AATT\n",
      "16 ACAA\n",
      "17 ACAC\n",
      "18 ACAG\n",
      "19 ACAT\n",
      "20 ACCA\n",
      "21 ACCC\n",
      "22 ACCG\n",
      "23 ACCT\n",
      "24 ACGA\n",
      "25 ACGC\n",
      "26 ACGG\n",
      "27 ACGT\n",
      "28 ACTA\n",
      "29 ACTC\n",
      "30 ACTG\n",
      "31 AGAA\n",
      "32 AGAC\n",
      "33 AGAG\n",
      "34 AGAT\n",
      "35 AGCA\n",
      "36 AGCC\n",
      "37 AGCG\n",
      "38 AGCT\n",
      "39 AGGA\n",
      "40 AGGC\n",
      "41 AGGG\n",
      "42 AGTA\n",
      "43 AGTC\n",
      "44 AGTG\n",
      "45 ATAA\n",
      "46 ATAC\n",
      "47 ATAG\n",
      "48 ATAT\n",
      "49 ATCA\n",
      "50 ATCC\n",
      "51 ATCG\n",
      "52 ATGA\n",
      "53 ATGC\n",
      "54 ATGG\n",
      "55 ATTA\n",
      "56 ATTC\n",
      "57 ATTG\n",
      "58 CAAA\n",
      "59 CAAC\n",
      "60 CAAG\n",
      "61 CACA\n",
      "62 CACC\n",
      "63 CACG\n",
      "64 CAGA\n",
      "65 CAGC\n",
      "66 CAGG\n",
      "67 CATA\n",
      "68 CATC\n",
      "69 CATG\n",
      "70 CCAA\n",
      "71 CCAC\n",
      "72 CCAG\n",
      "73 CCCA\n",
      "74 CCCC\n",
      "75 CCCG\n",
      "76 CCGA\n",
      "77 CCGC\n",
      "78 CCGG\n",
      "79 CCTA\n",
      "80 CCTC\n",
      "81 CGAA\n",
      "82 CGAC\n",
      "83 CGAG\n",
      "84 CGCA\n",
      "85 CGCC\n",
      "86 CGCG\n",
      "87 CGGA\n",
      "88 CGGC\n",
      "89 CGTA\n",
      "90 CGTC\n",
      "91 CTAA\n",
      "92 CTAC\n",
      "93 CTAG\n",
      "94 CTCA\n",
      "95 CTCC\n",
      "96 CTGA\n",
      "97 CTGC\n",
      "98 CTTA\n",
      "99 CTTC\n",
      "100 GAAA\n",
      "101 GAAC\n",
      "102 GACA\n",
      "103 GACC\n",
      "104 GAGA\n",
      "105 GAGC\n",
      "106 GATA\n",
      "107 GATC\n",
      "108 GCAA\n",
      "109 GCAC\n",
      "110 GCCA\n",
      "111 GCCC\n",
      "112 GCGA\n",
      "113 GCGC\n",
      "114 GCTA\n",
      "115 GGAA\n",
      "116 GGAC\n",
      "117 GGCA\n",
      "118 GGCC\n",
      "119 GGGA\n",
      "120 GGTA\n",
      "121 GTAA\n",
      "122 GTAC\n",
      "123 GTCA\n",
      "124 GTGA\n",
      "125 GTTA\n",
      "126 TAAA\n",
      "127 TACA\n",
      "128 TAGA\n",
      "129 TATA\n",
      "130 TCAA\n",
      "131 TCCA\n",
      "132 TCGA\n",
      "133 TGAA\n",
      "134 TGCA\n",
      "135 TTAA\n",
      "136 ceftriaxone\n",
      "137 trimethoprim/sulfamethoxazole\n",
      "138 ciprofloxacin\n",
      "139 gentamicin\n",
      "140 chloramphenicol\n",
      "141 nalidixic acid\n",
      "142 ampicillin\n",
      "143 sulfisoxazole\n",
      "144 cefoxitin\n",
      "145 tetracycline\n",
      "146 ceftiofur\n",
      "147 amoxicillin/clavulanic acid\n",
      "148 streptomycin\n",
      "149 azithromycin\n",
      "150 kanamycin\n"
     ]
    }
   ],
   "source": [
    "for col in range(len(data1.columns)):\n",
    "    print(col, data1.columns[col])"
   ]
  },
  {
   "cell_type": "code",
   "execution_count": 5,
   "metadata": {
    "scrolled": true
   },
   "outputs": [
    {
     "name": "stdout",
     "output_type": "stream",
     "text": [
      "4.0\n",
      "4.0\n",
      "32.0\n"
     ]
    },
    {
     "data": {
      "image/png": "[encoded data removed]",
      "text/plain": [
       "<Figure size 432x288 with 1 Axes>"
      ]
     },
     "metadata": {
      "needs_background": "light"
     },
     "output_type": "display_data"
    }
   ],
   "source": [
    "print(np.array(data1)[0,141])\n",
    "print(np.array(data1)[1,141])\n",
    "print(np.array(data1)[4,141])\n",
    "\n",
    "#plt.plot(np.array(data1)[0,:135])\n",
    "#plt.plot(np.array(data1)[4,:135])\n",
    "plt.plot(np.array(data1)[0,:135]-np.array(data1)[0,:135], label=\"same spec\")\n",
    "plt.plot(np.array(data1)[1,:135]-np.array(data1)[0,:135], label=\"same mic 141\")\n",
    "plt.plot(np.array(data1)[4,:135]-np.array(data1)[0,:135], label=\"different mic 141\")\n",
    "\n",
    "plt.legend()\n",
    "plt.ylabel('spec difference')\n",
    "plt.show()"
   ]
  },
  {
   "cell_type": "markdown",
   "metadata": {},
   "source": [
    "#### Resample (good practice)"
   ]
  },
  {
   "cell_type": "code",
   "execution_count": 6,
   "metadata": {},
   "outputs": [
    {
     "data": {
      "text/html": [
       "<div>\n",
       "<style scoped>\n",
       "    .dataframe tbody tr th:only-of-type {\n",
       "        vertical-align: middle;\n",
       "    }\n",
       "\n",
       "    .dataframe tbody tr th {\n",
       "        vertical-align: top;\n",
       "    }\n",
       "\n",
       "    .dataframe thead th {\n",
       "        text-align: right;\n",
       "    }\n",
       "</style>\n",
       "<table border=\"1\" class=\"dataframe\">\n",
       "  <thead>\n",
       "    <tr style=\"text-align: right;\">\n",
       "      <th></th>\n",
       "      <th>AAAA</th>\n",
       "      <th>AAAC</th>\n",
       "      <th>AAAG</th>\n",
       "      <th>AAAT</th>\n",
       "      <th>AACA</th>\n",
       "      <th>AACC</th>\n",
       "      <th>AACG</th>\n",
       "      <th>AACT</th>\n",
       "      <th>AAGA</th>\n",
       "      <th>AAGC</th>\n",
       "      <th>...</th>\n",
       "      <th>nalidixic acid</th>\n",
       "      <th>ampicillin</th>\n",
       "      <th>sulfisoxazole</th>\n",
       "      <th>cefoxitin</th>\n",
       "      <th>tetracycline</th>\n",
       "      <th>ceftiofur</th>\n",
       "      <th>amoxicillin/clavulanic acid</th>\n",
       "      <th>streptomycin</th>\n",
       "      <th>azithromycin</th>\n",
       "      <th>kanamycin</th>\n",
       "    </tr>\n",
       "  </thead>\n",
       "  <tbody>\n",
       "    <tr>\n",
       "      <th>1069</th>\n",
       "      <td>0.010238</td>\n",
       "      <td>0.009562</td>\n",
       "      <td>0.009783</td>\n",
       "      <td>0.010243</td>\n",
       "      <td>0.007410</td>\n",
       "      <td>0.007609</td>\n",
       "      <td>0.010194</td>\n",
       "      <td>0.005527</td>\n",
       "      <td>0.006678</td>\n",
       "      <td>0.008581</td>\n",
       "      <td>...</td>\n",
       "      <td>4.0</td>\n",
       "      <td>1.0</td>\n",
       "      <td>256.0</td>\n",
       "      <td>8.0</td>\n",
       "      <td>32.0</td>\n",
       "      <td>1.0</td>\n",
       "      <td>1.0</td>\n",
       "      <td>32.0</td>\n",
       "      <td>2.0</td>\n",
       "      <td>NaN</td>\n",
       "    </tr>\n",
       "    <tr>\n",
       "      <th>737</th>\n",
       "      <td>0.010048</td>\n",
       "      <td>0.009553</td>\n",
       "      <td>0.009545</td>\n",
       "      <td>0.010175</td>\n",
       "      <td>0.007346</td>\n",
       "      <td>0.007537</td>\n",
       "      <td>0.010228</td>\n",
       "      <td>0.005455</td>\n",
       "      <td>0.006327</td>\n",
       "      <td>0.008347</td>\n",
       "      <td>...</td>\n",
       "      <td>4.0</td>\n",
       "      <td>1.0</td>\n",
       "      <td>32.0</td>\n",
       "      <td>4.0</td>\n",
       "      <td>4.0</td>\n",
       "      <td>1.0</td>\n",
       "      <td>1.0</td>\n",
       "      <td>NaN</td>\n",
       "      <td>4.0</td>\n",
       "      <td>8.0</td>\n",
       "    </tr>\n",
       "    <tr>\n",
       "      <th>1925</th>\n",
       "      <td>0.010193</td>\n",
       "      <td>0.009492</td>\n",
       "      <td>0.009843</td>\n",
       "      <td>0.010280</td>\n",
       "      <td>0.007409</td>\n",
       "      <td>0.007539</td>\n",
       "      <td>0.010081</td>\n",
       "      <td>0.005482</td>\n",
       "      <td>0.006774</td>\n",
       "      <td>0.008639</td>\n",
       "      <td>...</td>\n",
       "      <td>4.0</td>\n",
       "      <td>1.0</td>\n",
       "      <td>256.0</td>\n",
       "      <td>4.0</td>\n",
       "      <td>32.0</td>\n",
       "      <td>1.0</td>\n",
       "      <td>1.0</td>\n",
       "      <td>NaN</td>\n",
       "      <td>4.0</td>\n",
       "      <td>8.0</td>\n",
       "    </tr>\n",
       "    <tr>\n",
       "      <th>1516</th>\n",
       "      <td>0.010388</td>\n",
       "      <td>0.009766</td>\n",
       "      <td>0.009647</td>\n",
       "      <td>0.010482</td>\n",
       "      <td>0.007602</td>\n",
       "      <td>0.007653</td>\n",
       "      <td>0.010085</td>\n",
       "      <td>0.005537</td>\n",
       "      <td>0.006636</td>\n",
       "      <td>0.008294</td>\n",
       "      <td>...</td>\n",
       "      <td>4.0</td>\n",
       "      <td>1.0</td>\n",
       "      <td>64.0</td>\n",
       "      <td>4.0</td>\n",
       "      <td>32.0</td>\n",
       "      <td>1.0</td>\n",
       "      <td>1.0</td>\n",
       "      <td>64.0</td>\n",
       "      <td>4.0</td>\n",
       "      <td>NaN</td>\n",
       "    </tr>\n",
       "    <tr>\n",
       "      <th>1134</th>\n",
       "      <td>0.010243</td>\n",
       "      <td>0.009571</td>\n",
       "      <td>0.009551</td>\n",
       "      <td>0.010335</td>\n",
       "      <td>0.007320</td>\n",
       "      <td>0.007642</td>\n",
       "      <td>0.010165</td>\n",
       "      <td>0.005525</td>\n",
       "      <td>0.006494</td>\n",
       "      <td>0.008428</td>\n",
       "      <td>...</td>\n",
       "      <td>2.0</td>\n",
       "      <td>1.0</td>\n",
       "      <td>32.0</td>\n",
       "      <td>2.0</td>\n",
       "      <td>4.0</td>\n",
       "      <td>1.0</td>\n",
       "      <td>1.0</td>\n",
       "      <td>NaN</td>\n",
       "      <td>4.0</td>\n",
       "      <td>8.0</td>\n",
       "    </tr>\n",
       "  </tbody>\n",
       "</table>\n",
       "<p>5 rows × 151 columns</p>\n",
       "</div>"
      ],
      "text/plain": [
       "          AAAA      AAAC      AAAG      AAAT      AACA      AACC      AACG  \\\n",
       "1069  0.010238  0.009562  0.009783  0.010243  0.007410  0.007609  0.010194   \n",
       "737   0.010048  0.009553  0.009545  0.010175  0.007346  0.007537  0.010228   \n",
       "1925  0.010193  0.009492  0.009843  0.010280  0.007409  0.007539  0.010081   \n",
       "1516  0.010388  0.009766  0.009647  0.010482  0.007602  0.007653  0.010085   \n",
       "1134  0.010243  0.009571  0.009551  0.010335  0.007320  0.007642  0.010165   \n",
       "\n",
       "          AACT      AAGA      AAGC  ...  nalidixic acid  ampicillin  \\\n",
       "1069  0.005527  0.006678  0.008581  ...             4.0         1.0   \n",
       "737   0.005455  0.006327  0.008347  ...             4.0         1.0   \n",
       "1925  0.005482  0.006774  0.008639  ...             4.0         1.0   \n",
       "1516  0.005537  0.006636  0.008294  ...             4.0         1.0   \n",
       "1134  0.005525  0.006494  0.008428  ...             2.0         1.0   \n",
       "\n",
       "      sulfisoxazole  cefoxitin  tetracycline  ceftiofur  \\\n",
       "1069          256.0        8.0          32.0        1.0   \n",
       "737            32.0        4.0           4.0        1.0   \n",
       "1925          256.0        4.0          32.0        1.0   \n",
       "1516           64.0        4.0          32.0        1.0   \n",
       "1134           32.0        2.0           4.0        1.0   \n",
       "\n",
       "      amoxicillin/clavulanic acid  streptomycin  azithromycin  kanamycin  \n",
       "1069                          1.0          32.0           2.0        NaN  \n",
       "737                           1.0           NaN           4.0        8.0  \n",
       "1925                          1.0           NaN           4.0        8.0  \n",
       "1516                          1.0          64.0           4.0        NaN  \n",
       "1134                          1.0           NaN           4.0        8.0  \n",
       "\n",
       "[5 rows x 151 columns]"
      ]
     },
     "execution_count": 6,
     "metadata": {},
     "output_type": "execute_result"
    }
   ],
   "source": [
    "data2 = data1.sample(frac=1, random_state=123)\n",
    "data2.head(n=5)"
   ]
  },
  {
   "cell_type": "markdown",
   "metadata": {},
   "source": [
    "#### It is common to replace null or nan values with a numerical value"
   ]
  },
  {
   "cell_type": "code",
   "execution_count": 7,
   "metadata": {},
   "outputs": [],
   "source": [
    "data2 = data2.fillna(-9999)"
   ]
  },
  {
   "cell_type": "code",
   "execution_count": 8,
   "metadata": {},
   "outputs": [
    {
     "data": {
      "text/html": [
       "<div>\n",
       "<style scoped>\n",
       "    .dataframe tbody tr th:only-of-type {\n",
       "        vertical-align: middle;\n",
       "    }\n",
       "\n",
       "    .dataframe tbody tr th {\n",
       "        vertical-align: top;\n",
       "    }\n",
       "\n",
       "    .dataframe thead th {\n",
       "        text-align: right;\n",
       "    }\n",
       "</style>\n",
       "<table border=\"1\" class=\"dataframe\">\n",
       "  <thead>\n",
       "    <tr style=\"text-align: right;\">\n",
       "      <th></th>\n",
       "      <th>AAAA</th>\n",
       "      <th>AAAC</th>\n",
       "      <th>AAAG</th>\n",
       "      <th>AAAT</th>\n",
       "      <th>AACA</th>\n",
       "      <th>AACC</th>\n",
       "      <th>AACG</th>\n",
       "      <th>AACT</th>\n",
       "      <th>AAGA</th>\n",
       "      <th>AAGC</th>\n",
       "      <th>...</th>\n",
       "      <th>nalidixic acid</th>\n",
       "      <th>ampicillin</th>\n",
       "      <th>sulfisoxazole</th>\n",
       "      <th>cefoxitin</th>\n",
       "      <th>tetracycline</th>\n",
       "      <th>ceftiofur</th>\n",
       "      <th>amoxicillin/clavulanic acid</th>\n",
       "      <th>streptomycin</th>\n",
       "      <th>azithromycin</th>\n",
       "      <th>kanamycin</th>\n",
       "    </tr>\n",
       "  </thead>\n",
       "  <tbody>\n",
       "    <tr>\n",
       "      <th>1069</th>\n",
       "      <td>0.010238</td>\n",
       "      <td>0.009562</td>\n",
       "      <td>0.009783</td>\n",
       "      <td>0.010243</td>\n",
       "      <td>0.007410</td>\n",
       "      <td>0.007609</td>\n",
       "      <td>0.010194</td>\n",
       "      <td>0.005527</td>\n",
       "      <td>0.006678</td>\n",
       "      <td>0.008581</td>\n",
       "      <td>...</td>\n",
       "      <td>4.0</td>\n",
       "      <td>1.0</td>\n",
       "      <td>256.0</td>\n",
       "      <td>8.0</td>\n",
       "      <td>32.0</td>\n",
       "      <td>1.0</td>\n",
       "      <td>1.0</td>\n",
       "      <td>32.0</td>\n",
       "      <td>2.0</td>\n",
       "      <td>-9999.0</td>\n",
       "    </tr>\n",
       "    <tr>\n",
       "      <th>737</th>\n",
       "      <td>0.010048</td>\n",
       "      <td>0.009553</td>\n",
       "      <td>0.009545</td>\n",
       "      <td>0.010175</td>\n",
       "      <td>0.007346</td>\n",
       "      <td>0.007537</td>\n",
       "      <td>0.010228</td>\n",
       "      <td>0.005455</td>\n",
       "      <td>0.006327</td>\n",
       "      <td>0.008347</td>\n",
       "      <td>...</td>\n",
       "      <td>4.0</td>\n",
       "      <td>1.0</td>\n",
       "      <td>32.0</td>\n",
       "      <td>4.0</td>\n",
       "      <td>4.0</td>\n",
       "      <td>1.0</td>\n",
       "      <td>1.0</td>\n",
       "      <td>-9999.0</td>\n",
       "      <td>4.0</td>\n",
       "      <td>8.0</td>\n",
       "    </tr>\n",
       "    <tr>\n",
       "      <th>1925</th>\n",
       "      <td>0.010193</td>\n",
       "      <td>0.009492</td>\n",
       "      <td>0.009843</td>\n",
       "      <td>0.010280</td>\n",
       "      <td>0.007409</td>\n",
       "      <td>0.007539</td>\n",
       "      <td>0.010081</td>\n",
       "      <td>0.005482</td>\n",
       "      <td>0.006774</td>\n",
       "      <td>0.008639</td>\n",
       "      <td>...</td>\n",
       "      <td>4.0</td>\n",
       "      <td>1.0</td>\n",
       "      <td>256.0</td>\n",
       "      <td>4.0</td>\n",
       "      <td>32.0</td>\n",
       "      <td>1.0</td>\n",
       "      <td>1.0</td>\n",
       "      <td>-9999.0</td>\n",
       "      <td>4.0</td>\n",
       "      <td>8.0</td>\n",
       "    </tr>\n",
       "    <tr>\n",
       "      <th>1516</th>\n",
       "      <td>0.010388</td>\n",
       "      <td>0.009766</td>\n",
       "      <td>0.009647</td>\n",
       "      <td>0.010482</td>\n",
       "      <td>0.007602</td>\n",
       "      <td>0.007653</td>\n",
       "      <td>0.010085</td>\n",
       "      <td>0.005537</td>\n",
       "      <td>0.006636</td>\n",
       "      <td>0.008294</td>\n",
       "      <td>...</td>\n",
       "      <td>4.0</td>\n",
       "      <td>1.0</td>\n",
       "      <td>64.0</td>\n",
       "      <td>4.0</td>\n",
       "      <td>32.0</td>\n",
       "      <td>1.0</td>\n",
       "      <td>1.0</td>\n",
       "      <td>64.0</td>\n",
       "      <td>4.0</td>\n",
       "      <td>-9999.0</td>\n",
       "    </tr>\n",
       "    <tr>\n",
       "      <th>1134</th>\n",
       "      <td>0.010243</td>\n",
       "      <td>0.009571</td>\n",
       "      <td>0.009551</td>\n",
       "      <td>0.010335</td>\n",
       "      <td>0.007320</td>\n",
       "      <td>0.007642</td>\n",
       "      <td>0.010165</td>\n",
       "      <td>0.005525</td>\n",
       "      <td>0.006494</td>\n",
       "      <td>0.008428</td>\n",
       "      <td>...</td>\n",
       "      <td>2.0</td>\n",
       "      <td>1.0</td>\n",
       "      <td>32.0</td>\n",
       "      <td>2.0</td>\n",
       "      <td>4.0</td>\n",
       "      <td>1.0</td>\n",
       "      <td>1.0</td>\n",
       "      <td>-9999.0</td>\n",
       "      <td>4.0</td>\n",
       "      <td>8.0</td>\n",
       "    </tr>\n",
       "  </tbody>\n",
       "</table>\n",
       "<p>5 rows × 151 columns</p>\n",
       "</div>"
      ],
      "text/plain": [
       "          AAAA      AAAC      AAAG      AAAT      AACA      AACC      AACG  \\\n",
       "1069  0.010238  0.009562  0.009783  0.010243  0.007410  0.007609  0.010194   \n",
       "737   0.010048  0.009553  0.009545  0.010175  0.007346  0.007537  0.010228   \n",
       "1925  0.010193  0.009492  0.009843  0.010280  0.007409  0.007539  0.010081   \n",
       "1516  0.010388  0.009766  0.009647  0.010482  0.007602  0.007653  0.010085   \n",
       "1134  0.010243  0.009571  0.009551  0.010335  0.007320  0.007642  0.010165   \n",
       "\n",
       "          AACT      AAGA      AAGC  ...  nalidixic acid  ampicillin  \\\n",
       "1069  0.005527  0.006678  0.008581  ...             4.0         1.0   \n",
       "737   0.005455  0.006327  0.008347  ...             4.0         1.0   \n",
       "1925  0.005482  0.006774  0.008639  ...             4.0         1.0   \n",
       "1516  0.005537  0.006636  0.008294  ...             4.0         1.0   \n",
       "1134  0.005525  0.006494  0.008428  ...             2.0         1.0   \n",
       "\n",
       "      sulfisoxazole  cefoxitin  tetracycline  ceftiofur  \\\n",
       "1069          256.0        8.0          32.0        1.0   \n",
       "737            32.0        4.0           4.0        1.0   \n",
       "1925          256.0        4.0          32.0        1.0   \n",
       "1516           64.0        4.0          32.0        1.0   \n",
       "1134           32.0        2.0           4.0        1.0   \n",
       "\n",
       "      amoxicillin/clavulanic acid  streptomycin  azithromycin  kanamycin  \n",
       "1069                          1.0          32.0           2.0    -9999.0  \n",
       "737                           1.0       -9999.0           4.0        8.0  \n",
       "1925                          1.0       -9999.0           4.0        8.0  \n",
       "1516                          1.0          64.0           4.0    -9999.0  \n",
       "1134                          1.0       -9999.0           4.0        8.0  \n",
       "\n",
       "[5 rows x 151 columns]"
      ]
     },
     "execution_count": 8,
     "metadata": {},
     "output_type": "execute_result"
    }
   ],
   "source": [
    "data2.head(n=5)"
   ]
  },
  {
   "cell_type": "markdown",
   "metadata": {},
   "source": [
    "#### Explore the MIC column in order to check the balance between values"
   ]
  },
  {
   "cell_type": "code",
   "execution_count": 87,
   "metadata": {},
   "outputs": [],
   "source": [
    "#mic_column = \"ceftriaxone\"\n",
    "mic_column = \"sulfisoxazole\""
   ]
  },
  {
   "cell_type": "code",
   "execution_count": 88,
   "metadata": {},
   "outputs": [
    {
     "data": {
      "text/plain": [
       "1069    256.0\n",
       "737      32.0\n",
       "1925    256.0\n",
       "1516     64.0\n",
       "1134     32.0\n",
       "        ...  \n",
       "1122     16.0\n",
       "1346    256.0\n",
       "1406     16.0\n",
       "1389     64.0\n",
       "1534    256.0\n",
       "Name: sulfisoxazole, Length: 1937, dtype: float64"
      ]
     },
     "execution_count": 88,
     "metadata": {},
     "output_type": "execute_result"
    }
   ],
   "source": [
    "data2[mic_column]"
   ]
  },
  {
   "cell_type": "code",
   "execution_count": 89,
   "metadata": {},
   "outputs": [
    {
     "data": {
      "text/plain": [
       "sulfisoxazole\n",
       "16.0     275\n",
       "32.0     713\n",
       "64.0     283\n",
       "128.0     17\n",
       "256.0    649\n",
       "dtype: int64"
      ]
     },
     "execution_count": 89,
     "metadata": {},
     "output_type": "execute_result"
    }
   ],
   "source": [
    "mic_reps= data2.pivot_table(index=[mic_column], aggfunc='size')\n",
    "mic_reps"
   ]
  },
  {
   "cell_type": "code",
   "execution_count": 91,
   "metadata": {},
   "outputs": [
    {
     "name": "stdout",
     "output_type": "stream",
     "text": [
      "highest label contain 33.51% of the mics\n"
     ]
    }
   ],
   "source": [
    "print(\"highest label contain %.2f%% of the mics\"%((649/1937)*100))"
   ]
  },
  {
   "cell_type": "markdown",
   "metadata": {},
   "source": [
    "#### we may cut the unbalanced one in order to check if classification works at all (checked)\n",
    "\n",
    "so we back to the full set of mics"
   ]
  },
  {
   "cell_type": "code",
   "execution_count": 92,
   "metadata": {},
   "outputs": [],
   "source": [
    "mic_threshold = 0.0"
   ]
  },
  {
   "cell_type": "code",
   "execution_count": 93,
   "metadata": {},
   "outputs": [
    {
     "data": {
      "text/plain": [
       "(1937, 151)"
      ]
     },
     "execution_count": 93,
     "metadata": {},
     "output_type": "execute_result"
    }
   ],
   "source": [
    "data3 = data2[data2[mic_column] > mic_threshold]\n",
    "data3.shape"
   ]
  },
  {
   "cell_type": "code",
   "execution_count": 94,
   "metadata": {},
   "outputs": [
    {
     "data": {
      "text/plain": [
       "(1937,)"
      ]
     },
     "execution_count": 94,
     "metadata": {},
     "output_type": "execute_result"
    }
   ],
   "source": [
    "mic = np.log2(data3[mic_column].values).astype(int)\n",
    "mic.shape"
   ]
  },
  {
   "cell_type": "code",
   "execution_count": 95,
   "metadata": {},
   "outputs": [
    {
     "name": "stdout",
     "output_type": "stream",
     "text": [
      "5 classes obtained from log2(mic)  [4 5 6 7 8]\n"
     ]
    }
   ],
   "source": [
    "print(len(np.unique(mic)), \"classes obtained from log2(mic) \", np.unique(mic))"
   ]
  },
  {
   "cell_type": "markdown",
   "metadata": {},
   "source": [
    "#### transformation from discrete classes to onehot format"
   ]
  },
  {
   "cell_type": "code",
   "execution_count": 213,
   "metadata": {},
   "outputs": [
    {
     "name": "stdout",
     "output_type": "stream",
     "text": [
      "[8 5 8 ... 4 6 8]\n",
      "[[8]\n",
      " [5]\n",
      " [8]\n",
      " [6]\n",
      " [5]\n",
      " [5]\n",
      " [4]\n",
      " [5]\n",
      " [8]\n",
      " [8]] \n",
      "\n",
      "Dimensions of discrete classes (1937, 1) \n",
      "\n",
      "[[0. 0. 0. 0. 1.]\n",
      " [0. 1. 0. 0. 0.]\n",
      " [0. 0. 0. 0. 1.]\n",
      " [0. 0. 1. 0. 0.]\n",
      " [0. 1. 0. 0. 0.]\n",
      " [0. 1. 0. 0. 0.]\n",
      " [1. 0. 0. 0. 0.]\n",
      " [0. 1. 0. 0. 0.]\n",
      " [0. 0. 0. 0. 1.]\n",
      " [0. 0. 0. 0. 1.]] \n",
      "\n",
      "Dimensions of one hot classes:  (1937, 5)\n"
     ]
    }
   ],
   "source": [
    "#by definition we need to reshape the list of mics\n",
    "print(mic)\n",
    "\n",
    "mic_reshape = np.reshape(mic,(-1,1))\n",
    "print(mic_reshape[:10], \"\\n\\nDimensions of discrete classes\", mic_reshape.shape, \"\\n\")\n",
    "\n",
    "#define encoder function\n",
    "encoder = OneHotEncoder(sparse=False)\n",
    "\n",
    "# transform data from numerical cat to onehot code\n",
    "mic_onehot = encoder.fit_transform(mic_reshape)\n",
    "print(mic_onehot[:10], \"\\n\\nDimensions of one hot classes: \", mic_onehot.shape)"
   ]
  },
  {
   "cell_type": "code",
   "execution_count": 97,
   "metadata": {},
   "outputs": [
    {
     "name": "stdout",
     "output_type": "stream",
     "text": [
      "(1937, 136) (1937, 5)\n"
     ]
    }
   ],
   "source": [
    "X = data3.values[:,0:136]\n",
    "y = mic_onehot\n",
    "\n",
    "print(X.shape, y.shape)"
   ]
  },
  {
   "cell_type": "code",
   "execution_count": 98,
   "metadata": {},
   "outputs": [],
   "source": [
    "X_train, X_test, y_train, y_test = train_test_split(X, y, test_size=0.1, random_state=123)"
   ]
  },
  {
   "cell_type": "code",
   "execution_count": 99,
   "metadata": {},
   "outputs": [
    {
     "name": "stdout",
     "output_type": "stream",
     "text": [
      "(1743, 136) (1743, 5) (194, 136) (194, 5)\n"
     ]
    }
   ],
   "source": [
    "print(X_train.shape,y_train.shape, X_test.shape,y_test.shape)"
   ]
  },
  {
   "cell_type": "code",
   "execution_count": 100,
   "metadata": {},
   "outputs": [
    {
     "data": {
      "text/plain": [
       "array([[0.01019181, 0.00953891, 0.0096918 , 0.01028893, 0.00741911],\n",
       "       [0.01031233, 0.00981044, 0.00929958, 0.01041278, 0.00777897],\n",
       "       [0.01015528, 0.00956137, 0.0093097 , 0.01024985, 0.00745586],\n",
       "       [0.01021885, 0.00967007, 0.0094716 , 0.01030015, 0.00746138],\n",
       "       [0.01025816, 0.00968174, 0.00936038, 0.01026986, 0.00755663]])"
      ]
     },
     "execution_count": 100,
     "metadata": {},
     "output_type": "execute_result"
    }
   ],
   "source": [
    "X_train[:5,:5]"
   ]
  },
  {
   "cell_type": "code",
   "execution_count": 101,
   "metadata": {},
   "outputs": [
    {
     "data": {
      "text/plain": [
       "array([[0., 0., 0., 0., 1.],\n",
       "       [0., 1., 0., 0., 0.],\n",
       "       [1., 0., 0., 0., 0.],\n",
       "       [1., 0., 0., 0., 0.],\n",
       "       [0., 1., 0., 0., 0.]])"
      ]
     },
     "execution_count": 101,
     "metadata": {},
     "output_type": "execute_result"
    }
   ],
   "source": [
    "y_train[:5]"
   ]
  },
  {
   "cell_type": "markdown",
   "metadata": {},
   "source": [
    "#### We standardize the input samples (good practice)"
   ]
  },
  {
   "cell_type": "code",
   "execution_count": 102,
   "metadata": {},
   "outputs": [],
   "source": [
    "mean = X_train.mean(axis=0)\n",
    "std = X_train.std(axis=0)\n",
    "\n",
    "X_train = (X_train - mean)/std\n",
    "X_test = (X_test - mean)/std"
   ]
  },
  {
   "cell_type": "code",
   "execution_count": 103,
   "metadata": {},
   "outputs": [
    {
     "data": {
      "text/plain": [
       "(1743, 136)"
      ]
     },
     "execution_count": 103,
     "metadata": {},
     "output_type": "execute_result"
    }
   ],
   "source": [
    "X_train.shape"
   ]
  },
  {
   "cell_type": "code",
   "execution_count": 104,
   "metadata": {},
   "outputs": [
    {
     "data": {
      "text/plain": [
       "(1743, 5)"
      ]
     },
     "execution_count": 104,
     "metadata": {},
     "output_type": "execute_result"
    }
   ],
   "source": [
    "y_train.shape"
   ]
  },
  {
   "cell_type": "code",
   "execution_count": 105,
   "metadata": {},
   "outputs": [
    {
     "data": {
      "text/plain": [
       "array([[-0.13508282, -1.15090431,  1.0767321 ,  0.1766698 , -0.85798147],\n",
       "       [ 1.03781766,  2.07576225, -1.04117918,  1.45954906,  2.55823482],\n",
       "       [-0.49064317, -0.8839228 , -0.98652221, -0.22807421, -0.50907439],\n",
       "       [ 0.128073  ,  0.40772384, -0.11231835,  0.29293188, -0.45662537],\n",
       "       [ 0.51062369,  0.54642995, -0.71287578, -0.0208366 ,  0.44758598]])"
      ]
     },
     "execution_count": 105,
     "metadata": {},
     "output_type": "execute_result"
    }
   ],
   "source": [
    "X_train[:5,:5]"
   ]
  },
  {
   "cell_type": "markdown",
   "metadata": {},
   "source": [
    "#### NN for classification\n",
    "\n",
    "if we use more and more layers we get overfit, so we have to balance the network. anyway, during training we always save the best model only, so if there is overfit we just save the best one"
   ]
  },
  {
   "cell_type": "code",
   "execution_count": 106,
   "metadata": {},
   "outputs": [
    {
     "data": {
      "text/plain": [
       "(1937, 5)"
      ]
     },
     "execution_count": 106,
     "metadata": {},
     "output_type": "execute_result"
    }
   ],
   "source": [
    "mic_onehot.shape"
   ]
  },
  {
   "cell_type": "code",
   "execution_count": 198,
   "metadata": {},
   "outputs": [],
   "source": [
    "model = Sequential()\n",
    "model.add(Dense(64, input_shape=(136, ), activation='relu', name='input'))\n",
    "model.add(Dense(64, activation='relu'))\n",
    "model.add(Dropout(0.5))\n",
    "model.add(Dense(32, activation='relu'))\n",
    "model.add(Dense(32, activation='relu'))\n",
    "model.add(Dropout(0.5))\n",
    "model.add(Dense(16, activation='relu'))\n",
    "model.add(Dense(16, activation='relu'))\n",
    "model.add(Dense(mic_onehot.shape[1], activation='softmax', name='output'))"
   ]
  },
  {
   "cell_type": "code",
   "execution_count": 199,
   "metadata": {},
   "outputs": [],
   "source": [
    "model.compile(optimizer=Adam(), loss='categorical_crossentropy', metrics=['accuracy'])"
   ]
  },
  {
   "cell_type": "markdown",
   "metadata": {},
   "source": [
    "#### We fit with a validation method in order to test overfit, also we checkpoint the best model for later test\n",
    "\n",
    "overvit can be found when the train loss is small but validation loss is big"
   ]
  },
  {
   "cell_type": "code",
   "execution_count": 200,
   "metadata": {},
   "outputs": [],
   "source": [
    "filepath=\"cnn_class_mic.h5\"\n",
    "earlystopper = EarlyStopping(monitor='val_loss', patience=50, verbose=1, min_delta=1e-7)\n",
    "checkpoint = ModelCheckpoint(filepath, monitor='val_loss', verbose=1, save_best_only=True)\n",
    "reduce_lr = ReduceLROnPlateau(monitor='val_loss', factor=0.5, verbose=1, patience=20, min_lr=0.000000001)\n",
    "callbacks=[reduce_lr, checkpoint, earlystopper]"
   ]
  },
  {
   "cell_type": "code",
   "execution_count": 201,
   "metadata": {},
   "outputs": [
    {
     "name": "stdout",
     "output_type": "stream",
     "text": [
      "Epoch 1/4000\n",
      " 1/10 [==>...........................] - ETA: 0s - loss: 1.7111 - accuracy: 0.1484\n",
      "Epoch 00001: val_loss improved from inf to 1.53346, saving model to cnn_class_mic.h5\n",
      "10/10 [==============================] - 0s 37ms/step - loss: 1.6109 - accuracy: 0.2311 - val_loss: 1.5335 - val_accuracy: 0.3824 - lr: 0.0010\n",
      "Epoch 2/4000\n",
      " 1/10 [==>...........................] - ETA: 0s - loss: 1.5471 - accuracy: 0.3516\n",
      "Epoch 00002: val_loss improved from 1.53346 to 1.46015, saving model to cnn_class_mic.h5\n",
      "10/10 [==============================] - 0s 16ms/step - loss: 1.5093 - accuracy: 0.3590 - val_loss: 1.4601 - val_accuracy: 0.4111 - lr: 0.0010\n",
      "Epoch 3/4000\n",
      "10/10 [==============================] - ETA: 0s - loss: 1.4477 - accuracy: 0.4172\n",
      "Epoch 00003: val_loss improved from 1.46015 to 1.40002, saving model to cnn_class_mic.h5\n",
      "10/10 [==============================] - 0s 19ms/step - loss: 1.4477 - accuracy: 0.4172 - val_loss: 1.4000 - val_accuracy: 0.4837 - lr: 0.0010\n",
      "Epoch 4/4000\n",
      " 1/10 [==>...........................] - ETA: 0s - loss: 1.4067 - accuracy: 0.4609\n",
      "Epoch 00004: val_loss improved from 1.40002 to 1.30568, saving model to cnn_class_mic.h5\n",
      "10/10 [==============================] - 0s 18ms/step - loss: 1.3667 - accuracy: 0.4705 - val_loss: 1.3057 - val_accuracy: 0.5392 - lr: 0.0010\n",
      "Epoch 5/4000\n",
      " 1/10 [==>...........................] - ETA: 0s - loss: 1.3248 - accuracy: 0.4766\n",
      "Epoch 00005: val_loss improved from 1.30568 to 1.18614, saving model to cnn_class_mic.h5\n",
      "10/10 [==============================] - 0s 18ms/step - loss: 1.2938 - accuracy: 0.4959 - val_loss: 1.1861 - val_accuracy: 0.5660 - lr: 0.0010\n",
      "Epoch 6/4000\n",
      " 1/10 [==>...........................] - ETA: 0s - loss: 1.3428 - accuracy: 0.4766\n",
      "Epoch 00006: val_loss improved from 1.18614 to 1.10812, saving model to cnn_class_mic.h5\n",
      "10/10 [==============================] - 0s 16ms/step - loss: 1.2155 - accuracy: 0.5352 - val_loss: 1.1081 - val_accuracy: 0.5736 - lr: 0.0010\n",
      "Epoch 7/4000\n",
      "10/10 [==============================] - ETA: 0s - loss: 1.1633 - accuracy: 0.5500\n",
      "Epoch 00007: val_loss improved from 1.10812 to 1.07192, saving model to cnn_class_mic.h5\n",
      "10/10 [==============================] - 0s 20ms/step - loss: 1.1633 - accuracy: 0.5500 - val_loss: 1.0719 - val_accuracy: 0.5755 - lr: 0.0010\n",
      "Epoch 8/4000\n",
      " 1/10 [==>...........................] - ETA: 0s - loss: 1.1614 - accuracy: 0.5625\n",
      "Epoch 00008: val_loss improved from 1.07192 to 1.04305, saving model to cnn_class_mic.h5\n",
      "10/10 [==============================] - 0s 17ms/step - loss: 1.1194 - accuracy: 0.5697 - val_loss: 1.0430 - val_accuracy: 0.5985 - lr: 0.0010\n",
      "Epoch 9/4000\n",
      "10/10 [==============================] - ETA: 0s - loss: 1.1017 - accuracy: 0.5689\n",
      "Epoch 00009: val_loss improved from 1.04305 to 1.03161, saving model to cnn_class_mic.h5\n",
      "10/10 [==============================] - 0s 19ms/step - loss: 1.1017 - accuracy: 0.5689 - val_loss: 1.0316 - val_accuracy: 0.6080 - lr: 0.0010\n",
      "Epoch 10/4000\n",
      " 1/10 [==>...........................] - ETA: 0s - loss: 1.0355 - accuracy: 0.5938\n",
      "Epoch 00010: val_loss improved from 1.03161 to 1.01923, saving model to cnn_class_mic.h5\n",
      "10/10 [==============================] - 0s 19ms/step - loss: 1.0932 - accuracy: 0.5787 - val_loss: 1.0192 - val_accuracy: 0.6061 - lr: 0.0010\n",
      "Epoch 11/4000\n",
      " 1/10 [==>...........................] - ETA: 0s - loss: 1.0407 - accuracy: 0.5781\n",
      "Epoch 00011: val_loss improved from 1.01923 to 1.01700, saving model to cnn_class_mic.h5\n",
      "10/10 [==============================] - 0s 19ms/step - loss: 1.0507 - accuracy: 0.5951 - val_loss: 1.0170 - val_accuracy: 0.6099 - lr: 0.0010\n",
      "Epoch 12/4000\n",
      " 1/10 [==>...........................] - ETA: 0s - loss: 1.0784 - accuracy: 0.5078\n",
      "Epoch 00012: val_loss improved from 1.01700 to 1.00226, saving model to cnn_class_mic.h5\n",
      "10/10 [==============================] - 0s 17ms/step - loss: 1.0471 - accuracy: 0.5893 - val_loss: 1.0023 - val_accuracy: 0.6214 - lr: 0.0010\n",
      "Epoch 13/4000\n",
      " 1/10 [==>...........................] - ETA: 0s - loss: 0.9467 - accuracy: 0.5859\n",
      "Epoch 00013: val_loss improved from 1.00226 to 0.99640, saving model to cnn_class_mic.h5\n",
      "10/10 [==============================] - 0s 17ms/step - loss: 1.0185 - accuracy: 0.6090 - val_loss: 0.9964 - val_accuracy: 0.6138 - lr: 0.0010\n",
      "Epoch 14/4000\n",
      "10/10 [==============================] - ETA: 0s - loss: 1.0072 - accuracy: 0.6066\n",
      "Epoch 00014: val_loss improved from 0.99640 to 0.98917, saving model to cnn_class_mic.h5\n",
      "10/10 [==============================] - 0s 19ms/step - loss: 1.0072 - accuracy: 0.6066 - val_loss: 0.9892 - val_accuracy: 0.6138 - lr: 0.0010\n",
      "Epoch 15/4000\n",
      " 1/10 [==>...........................] - ETA: 0s - loss: 1.1056 - accuracy: 0.5547\n",
      "Epoch 00015: val_loss improved from 0.98917 to 0.98671, saving model to cnn_class_mic.h5\n",
      "10/10 [==============================] - 0s 18ms/step - loss: 0.9786 - accuracy: 0.6213 - val_loss: 0.9867 - val_accuracy: 0.6252 - lr: 0.0010\n",
      "Epoch 16/4000\n",
      " 1/10 [==>...........................] - ETA: 0s - loss: 0.9961 - accuracy: 0.6406\n",
      "Epoch 00016: val_loss improved from 0.98671 to 0.97897, saving model to cnn_class_mic.h5\n",
      "10/10 [==============================] - 0s 17ms/step - loss: 0.9908 - accuracy: 0.6189 - val_loss: 0.9790 - val_accuracy: 0.6214 - lr: 0.0010\n",
      "Epoch 17/4000\n",
      " 1/10 [==>...........................] - ETA: 0s - loss: 1.0234 - accuracy: 0.6484\n",
      "Epoch 00017: val_loss improved from 0.97897 to 0.97407, saving model to cnn_class_mic.h5\n",
      "10/10 [==============================] - 0s 16ms/step - loss: 0.9884 - accuracy: 0.6279 - val_loss: 0.9741 - val_accuracy: 0.6195 - lr: 0.0010\n",
      "Epoch 18/4000\n",
      " 1/10 [==>...........................] - ETA: 0s - loss: 0.8802 - accuracy: 0.6641\n",
      "Epoch 00018: val_loss improved from 0.97407 to 0.96524, saving model to cnn_class_mic.h5\n",
      "10/10 [==============================] - 0s 17ms/step - loss: 0.9609 - accuracy: 0.6230 - val_loss: 0.9652 - val_accuracy: 0.6233 - lr: 0.0010\n",
      "Epoch 19/4000\n",
      " 9/10 [==========================>...] - ETA: 0s - loss: 0.9565 - accuracy: 0.6311\n",
      "Epoch 00019: val_loss improved from 0.96524 to 0.95878, saving model to cnn_class_mic.h5\n",
      "10/10 [==============================] - 0s 19ms/step - loss: 0.9588 - accuracy: 0.6262 - val_loss: 0.9588 - val_accuracy: 0.6291 - lr: 0.0010\n",
      "Epoch 20/4000\n",
      " 1/10 [==>...........................] - ETA: 0s - loss: 1.0334 - accuracy: 0.6094\n",
      "Epoch 00020: val_loss did not improve from 0.95878\n",
      "10/10 [==============================] - 0s 11ms/step - loss: 0.9567 - accuracy: 0.6393 - val_loss: 0.9596 - val_accuracy: 0.6252 - lr: 0.0010\n",
      "Epoch 21/4000\n",
      " 1/10 [==>...........................] - ETA: 0s - loss: 0.8531 - accuracy: 0.6719\n",
      "Epoch 00021: val_loss improved from 0.95878 to 0.94806, saving model to cnn_class_mic.h5\n",
      "10/10 [==============================] - 0s 16ms/step - loss: 0.9244 - accuracy: 0.6385 - val_loss: 0.9481 - val_accuracy: 0.6310 - lr: 0.0010\n",
      "Epoch 22/4000\n",
      " 1/10 [==>...........................] - ETA: 0s - loss: 0.8714 - accuracy: 0.6953\n",
      "Epoch 00022: val_loss improved from 0.94806 to 0.94621, saving model to cnn_class_mic.h5\n",
      "10/10 [==============================] - 0s 18ms/step - loss: 0.9010 - accuracy: 0.6500 - val_loss: 0.9462 - val_accuracy: 0.6291 - lr: 0.0010\n",
      "Epoch 23/4000\n",
      " 1/10 [==>...........................] - ETA: 0s - loss: 0.9736 - accuracy: 0.6016\n",
      "Epoch 00023: val_loss improved from 0.94621 to 0.94584, saving model to cnn_class_mic.h5\n",
      "10/10 [==============================] - 0s 17ms/step - loss: 0.9059 - accuracy: 0.6410 - val_loss: 0.9458 - val_accuracy: 0.6272 - lr: 0.0010\n",
      "Epoch 24/4000\n",
      " 1/10 [==>...........................] - ETA: 0s - loss: 0.9361 - accuracy: 0.6562\n",
      "Epoch 00024: val_loss improved from 0.94584 to 0.94486, saving model to cnn_class_mic.h5\n",
      "10/10 [==============================] - 0s 17ms/step - loss: 0.9164 - accuracy: 0.6369 - val_loss: 0.9449 - val_accuracy: 0.6310 - lr: 0.0010\n",
      "Epoch 25/4000\n",
      " 1/10 [==>...........................] - ETA: 0s - loss: 0.7449 - accuracy: 0.6719\n",
      "Epoch 00025: val_loss improved from 0.94486 to 0.94473, saving model to cnn_class_mic.h5\n",
      "10/10 [==============================] - 0s 17ms/step - loss: 0.8889 - accuracy: 0.6492 - val_loss: 0.9447 - val_accuracy: 0.6329 - lr: 0.0010\n",
      "Epoch 26/4000\n",
      " 1/10 [==>...........................] - ETA: 0s - loss: 0.8354 - accuracy: 0.6797\n",
      "Epoch 00026: val_loss did not improve from 0.94473\n",
      "10/10 [==============================] - 0s 11ms/step - loss: 0.8844 - accuracy: 0.6516 - val_loss: 0.9471 - val_accuracy: 0.6272 - lr: 0.0010\n",
      "Epoch 27/4000\n",
      " 1/10 [==>...........................] - ETA: 0s - loss: 0.8413 - accuracy: 0.6406\n",
      "Epoch 00027: val_loss improved from 0.94473 to 0.93655, saving model to cnn_class_mic.h5\n",
      "10/10 [==============================] - 0s 17ms/step - loss: 0.8761 - accuracy: 0.6459 - val_loss: 0.9365 - val_accuracy: 0.6291 - lr: 0.0010\n",
      "Epoch 28/4000\n",
      " 1/10 [==>...........................] - ETA: 0s - loss: 0.7711 - accuracy: 0.6719\n",
      "Epoch 00028: val_loss did not improve from 0.93655\n",
      "10/10 [==============================] - 0s 11ms/step - loss: 0.8748 - accuracy: 0.6467 - val_loss: 0.9465 - val_accuracy: 0.6329 - lr: 0.0010\n",
      "Epoch 29/4000\n",
      " 1/10 [==>...........................] - ETA: 0s - loss: 0.8404 - accuracy: 0.6484\n",
      "Epoch 00029: val_loss improved from 0.93655 to 0.93293, saving model to cnn_class_mic.h5\n",
      "10/10 [==============================] - 0s 16ms/step - loss: 0.8511 - accuracy: 0.6656 - val_loss: 0.9329 - val_accuracy: 0.6386 - lr: 0.0010\n",
      "Epoch 30/4000\n",
      " 1/10 [==>...........................] - ETA: 0s - loss: 0.9135 - accuracy: 0.6328\n",
      "Epoch 00030: val_loss did not improve from 0.93293\n",
      "10/10 [==============================] - 0s 11ms/step - loss: 0.8718 - accuracy: 0.6516 - val_loss: 0.9471 - val_accuracy: 0.6367 - lr: 0.0010\n",
      "Epoch 31/4000\n",
      " 1/10 [==>...........................] - ETA: 0s - loss: 0.9886 - accuracy: 0.5391\n",
      "Epoch 00031: val_loss did not improve from 0.93293\n",
      "10/10 [==============================] - 0s 10ms/step - loss: 0.8740 - accuracy: 0.6434 - val_loss: 0.9353 - val_accuracy: 0.6329 - lr: 0.0010\n",
      "Epoch 32/4000\n",
      " 1/10 [==>...........................] - ETA: 0s - loss: 0.7762 - accuracy: 0.7031\n",
      "Epoch 00032: val_loss did not improve from 0.93293\n",
      "10/10 [==============================] - 0s 10ms/step - loss: 0.8484 - accuracy: 0.6557 - val_loss: 0.9334 - val_accuracy: 0.6310 - lr: 0.0010\n",
      "Epoch 33/4000\n",
      " 1/10 [==>...........................] - ETA: 0s - loss: 0.8320 - accuracy: 0.6719\n",
      "Epoch 00033: val_loss improved from 0.93293 to 0.92848, saving model to cnn_class_mic.h5\n",
      "10/10 [==============================] - 0s 16ms/step - loss: 0.8556 - accuracy: 0.6525 - val_loss: 0.9285 - val_accuracy: 0.6386 - lr: 0.0010\n",
      "Epoch 34/4000\n",
      " 1/10 [==>...........................] - ETA: 0s - loss: 0.9090 - accuracy: 0.5938\n",
      "Epoch 00034: val_loss improved from 0.92848 to 0.91912, saving model to cnn_class_mic.h5\n",
      "10/10 [==============================] - 0s 16ms/step - loss: 0.8350 - accuracy: 0.6525 - val_loss: 0.9191 - val_accuracy: 0.6405 - lr: 0.0010\n",
      "Epoch 35/4000\n",
      " 1/10 [==>...........................] - ETA: 0s - loss: 0.9587 - accuracy: 0.6250\n",
      "Epoch 00035: val_loss improved from 0.91912 to 0.91409, saving model to cnn_class_mic.h5\n",
      "10/10 [==============================] - 0s 18ms/step - loss: 0.8402 - accuracy: 0.6615 - val_loss: 0.9141 - val_accuracy: 0.6405 - lr: 0.0010\n",
      "Epoch 36/4000\n",
      " 1/10 [==>...........................] - ETA: 0s - loss: 0.7419 - accuracy: 0.7188\n",
      "Epoch 00036: val_loss did not improve from 0.91409\n",
      "10/10 [==============================] - 0s 11ms/step - loss: 0.8210 - accuracy: 0.6639 - val_loss: 0.9165 - val_accuracy: 0.6444 - lr: 0.0010\n",
      "Epoch 37/4000\n",
      " 1/10 [==>...........................] - ETA: 0s - loss: 0.7624 - accuracy: 0.6875\n",
      "Epoch 00037: val_loss did not improve from 0.91409\n",
      "10/10 [==============================] - 0s 10ms/step - loss: 0.8283 - accuracy: 0.6590 - val_loss: 0.9452 - val_accuracy: 0.6405 - lr: 0.0010\n",
      "Epoch 38/4000\n",
      " 1/10 [==>...........................] - ETA: 0s - loss: 0.8971 - accuracy: 0.6172\n",
      "Epoch 00038: val_loss did not improve from 0.91409\n",
      "10/10 [==============================] - 0s 10ms/step - loss: 0.8320 - accuracy: 0.6582 - val_loss: 0.9280 - val_accuracy: 0.6367 - lr: 0.0010\n",
      "Epoch 39/4000\n",
      " 1/10 [==>...........................] - ETA: 0s - loss: 0.8171 - accuracy: 0.6719\n",
      "Epoch 00039: val_loss did not improve from 0.91409\n",
      "10/10 [==============================] - 0s 10ms/step - loss: 0.8250 - accuracy: 0.6623 - val_loss: 0.9204 - val_accuracy: 0.6482 - lr: 0.0010\n",
      "Epoch 40/4000\n",
      " 1/10 [==>...........................] - ETA: 0s - loss: 0.8345 - accuracy: 0.6953\n",
      "Epoch 00040: val_loss did not improve from 0.91409\n",
      "10/10 [==============================] - 0s 11ms/step - loss: 0.8066 - accuracy: 0.6656 - val_loss: 0.9165 - val_accuracy: 0.6501 - lr: 0.0010\n",
      "Epoch 41/4000\n",
      " 1/10 [==>...........................] - ETA: 0s - loss: 0.9110 - accuracy: 0.5938\n",
      "Epoch 00041: val_loss did not improve from 0.91409\n",
      "10/10 [==============================] - 0s 10ms/step - loss: 0.7913 - accuracy: 0.6615 - val_loss: 0.9316 - val_accuracy: 0.6424 - lr: 0.0010\n",
      "Epoch 42/4000\n",
      " 1/10 [==>...........................] - ETA: 0s - loss: 0.7446 - accuracy: 0.6797\n",
      "Epoch 00042: val_loss did not improve from 0.91409\n",
      "10/10 [==============================] - 0s 11ms/step - loss: 0.7798 - accuracy: 0.6721 - val_loss: 0.9266 - val_accuracy: 0.6386 - lr: 0.0010\n",
      "Epoch 43/4000\n",
      " 1/10 [==>...........................] - ETA: 0s - loss: 0.8724 - accuracy: 0.6250\n",
      "Epoch 00043: val_loss did not improve from 0.91409\n",
      "10/10 [==============================] - 0s 11ms/step - loss: 0.7896 - accuracy: 0.6705 - val_loss: 0.9185 - val_accuracy: 0.6405 - lr: 0.0010\n",
      "Epoch 44/4000\n",
      " 1/10 [==>...........................] - ETA: 0s - loss: 0.9070 - accuracy: 0.6016\n",
      "Epoch 00044: val_loss did not improve from 0.91409\n",
      "10/10 [==============================] - 0s 12ms/step - loss: 0.7908 - accuracy: 0.6664 - val_loss: 0.9204 - val_accuracy: 0.6444 - lr: 0.0010\n",
      "Epoch 45/4000\n",
      " 1/10 [==>...........................] - ETA: 0s - loss: 0.7924 - accuracy: 0.6250\n",
      "Epoch 00045: val_loss did not improve from 0.91409\n",
      "10/10 [==============================] - 0s 10ms/step - loss: 0.7699 - accuracy: 0.6697 - val_loss: 0.9310 - val_accuracy: 0.6482 - lr: 0.0010\n",
      "Epoch 46/4000\n",
      " 1/10 [==>...........................] - ETA: 0s - loss: 0.7332 - accuracy: 0.6797\n",
      "Epoch 00046: val_loss did not improve from 0.91409\n",
      "10/10 [==============================] - 0s 10ms/step - loss: 0.7709 - accuracy: 0.6697 - val_loss: 0.9340 - val_accuracy: 0.6463 - lr: 0.0010\n",
      "Epoch 47/4000\n",
      " 1/10 [==>...........................] - ETA: 0s - loss: 0.8418 - accuracy: 0.6250\n",
      "Epoch 00047: val_loss did not improve from 0.91409\n",
      "10/10 [==============================] - 0s 11ms/step - loss: 0.7789 - accuracy: 0.6713 - val_loss: 0.9413 - val_accuracy: 0.6424 - lr: 0.0010\n",
      "Epoch 48/4000\n",
      " 1/10 [==>...........................] - ETA: 0s - loss: 0.8091 - accuracy: 0.6875\n",
      "Epoch 00048: val_loss did not improve from 0.91409\n",
      "10/10 [==============================] - 0s 11ms/step - loss: 0.7797 - accuracy: 0.6672 - val_loss: 0.9526 - val_accuracy: 0.6329 - lr: 0.0010\n",
      "Epoch 49/4000\n",
      " 1/10 [==>...........................] - ETA: 0s - loss: 0.7866 - accuracy: 0.6875\n",
      "Epoch 00049: val_loss did not improve from 0.91409\n",
      "10/10 [==============================] - 0s 11ms/step - loss: 0.7586 - accuracy: 0.6762 - val_loss: 0.9315 - val_accuracy: 0.6463 - lr: 0.0010\n",
      "Epoch 50/4000\n",
      " 1/10 [==>...........................] - ETA: 0s - loss: 0.7190 - accuracy: 0.6875\n",
      "Epoch 00050: val_loss did not improve from 0.91409\n",
      "10/10 [==============================] - 0s 11ms/step - loss: 0.7612 - accuracy: 0.6705 - val_loss: 0.9569 - val_accuracy: 0.6444 - lr: 0.0010\n",
      "Epoch 51/4000\n",
      " 1/10 [==>...........................] - ETA: 0s - loss: 0.6397 - accuracy: 0.7500\n",
      "Epoch 00051: val_loss did not improve from 0.91409\n",
      "10/10 [==============================] - 0s 11ms/step - loss: 0.7565 - accuracy: 0.6746 - val_loss: 0.9666 - val_accuracy: 0.6424 - lr: 0.0010\n",
      "Epoch 52/4000\n",
      " 1/10 [==>...........................] - ETA: 0s - loss: 0.7612 - accuracy: 0.7109\n",
      "Epoch 00052: val_loss did not improve from 0.91409\n",
      "10/10 [==============================] - 0s 11ms/step - loss: 0.7785 - accuracy: 0.6779 - val_loss: 0.9654 - val_accuracy: 0.6405 - lr: 0.0010\n",
      "Epoch 53/4000\n",
      " 1/10 [==>...........................] - ETA: 0s - loss: 0.7583 - accuracy: 0.6719\n",
      "Epoch 00053: val_loss did not improve from 0.91409\n",
      "10/10 [==============================] - 0s 11ms/step - loss: 0.7567 - accuracy: 0.6754 - val_loss: 0.9388 - val_accuracy: 0.6482 - lr: 0.0010\n"
     ]
    },
    {
     "name": "stdout",
     "output_type": "stream",
     "text": [
      "Epoch 54/4000\n",
      " 1/10 [==>...........................] - ETA: 0s - loss: 0.7740 - accuracy: 0.6328\n",
      "Epoch 00054: val_loss did not improve from 0.91409\n",
      "10/10 [==============================] - 0s 12ms/step - loss: 0.7365 - accuracy: 0.6869 - val_loss: 0.9437 - val_accuracy: 0.6501 - lr: 0.0010\n",
      "Epoch 55/4000\n",
      " 1/10 [==>...........................] - ETA: 0s - loss: 0.8135 - accuracy: 0.6328\n",
      "Epoch 00055: ReduceLROnPlateau reducing learning rate to 0.0005000000237487257.\n",
      "\n",
      "Epoch 00055: val_loss did not improve from 0.91409\n",
      "10/10 [==============================] - 0s 11ms/step - loss: 0.7389 - accuracy: 0.6828 - val_loss: 0.9582 - val_accuracy: 0.6463 - lr: 0.0010\n",
      "Epoch 56/4000\n",
      " 1/10 [==>...........................] - ETA: 0s - loss: 0.7663 - accuracy: 0.6641\n",
      "Epoch 00056: val_loss did not improve from 0.91409\n",
      "10/10 [==============================] - 0s 12ms/step - loss: 0.7458 - accuracy: 0.6762 - val_loss: 0.9320 - val_accuracy: 0.6501 - lr: 5.0000e-04\n",
      "Epoch 57/4000\n",
      " 1/10 [==>...........................] - ETA: 0s - loss: 0.6286 - accuracy: 0.7266\n",
      "Epoch 00057: val_loss did not improve from 0.91409\n",
      "10/10 [==============================] - 0s 10ms/step - loss: 0.7291 - accuracy: 0.6795 - val_loss: 0.9289 - val_accuracy: 0.6444 - lr: 5.0000e-04\n",
      "Epoch 58/4000\n",
      " 1/10 [==>...........................] - ETA: 0s - loss: 0.8495 - accuracy: 0.6094\n",
      "Epoch 00058: val_loss did not improve from 0.91409\n",
      "10/10 [==============================] - 0s 10ms/step - loss: 0.7383 - accuracy: 0.6828 - val_loss: 0.9147 - val_accuracy: 0.6520 - lr: 5.0000e-04\n",
      "Epoch 59/4000\n",
      " 1/10 [==>...........................] - ETA: 0s - loss: 0.8225 - accuracy: 0.6094\n",
      "Epoch 00059: val_loss did not improve from 0.91409\n",
      "10/10 [==============================] - 0s 10ms/step - loss: 0.7342 - accuracy: 0.6738 - val_loss: 0.9428 - val_accuracy: 0.6463 - lr: 5.0000e-04\n",
      "Epoch 60/4000\n",
      " 1/10 [==>...........................] - ETA: 0s - loss: 0.7131 - accuracy: 0.6953\n",
      "Epoch 00060: val_loss did not improve from 0.91409\n",
      "10/10 [==============================] - 0s 10ms/step - loss: 0.7203 - accuracy: 0.6836 - val_loss: 0.9615 - val_accuracy: 0.6444 - lr: 5.0000e-04\n",
      "Epoch 61/4000\n",
      " 1/10 [==>...........................] - ETA: 0s - loss: 0.7656 - accuracy: 0.6484\n",
      "Epoch 00061: val_loss did not improve from 0.91409\n",
      "10/10 [==============================] - 0s 10ms/step - loss: 0.7092 - accuracy: 0.6820 - val_loss: 0.9507 - val_accuracy: 0.6520 - lr: 5.0000e-04\n",
      "Epoch 62/4000\n",
      " 1/10 [==>...........................] - ETA: 0s - loss: 0.6728 - accuracy: 0.7031\n",
      "Epoch 00062: val_loss did not improve from 0.91409\n",
      "10/10 [==============================] - 0s 10ms/step - loss: 0.7119 - accuracy: 0.6844 - val_loss: 0.9443 - val_accuracy: 0.6577 - lr: 5.0000e-04\n",
      "Epoch 63/4000\n",
      " 1/10 [==>...........................] - ETA: 0s - loss: 0.7505 - accuracy: 0.6172\n",
      "Epoch 00063: val_loss did not improve from 0.91409\n",
      "10/10 [==============================] - 0s 12ms/step - loss: 0.7149 - accuracy: 0.6869 - val_loss: 0.9455 - val_accuracy: 0.6597 - lr: 5.0000e-04\n",
      "Epoch 64/4000\n",
      " 1/10 [==>...........................] - ETA: 0s - loss: 0.6294 - accuracy: 0.7266\n",
      "Epoch 00064: val_loss did not improve from 0.91409\n",
      "10/10 [==============================] - 0s 11ms/step - loss: 0.7027 - accuracy: 0.6844 - val_loss: 0.9433 - val_accuracy: 0.6597 - lr: 5.0000e-04\n",
      "Epoch 65/4000\n",
      " 1/10 [==>...........................] - ETA: 0s - loss: 0.7632 - accuracy: 0.6719\n",
      "Epoch 00065: val_loss did not improve from 0.91409\n",
      "10/10 [==============================] - 0s 11ms/step - loss: 0.6931 - accuracy: 0.6844 - val_loss: 0.9683 - val_accuracy: 0.6577 - lr: 5.0000e-04\n",
      "Epoch 66/4000\n",
      " 8/10 [=======================>......] - ETA: 0s - loss: 0.6802 - accuracy: 0.7168\n",
      "Epoch 00066: val_loss did not improve from 0.91409\n",
      "10/10 [==============================] - 0s 13ms/step - loss: 0.7015 - accuracy: 0.6975 - val_loss: 0.9818 - val_accuracy: 0.6597 - lr: 5.0000e-04\n",
      "Epoch 67/4000\n",
      " 1/10 [==>...........................] - ETA: 0s - loss: 0.6439 - accuracy: 0.6797\n",
      "Epoch 00067: val_loss did not improve from 0.91409\n",
      "10/10 [==============================] - 0s 10ms/step - loss: 0.6844 - accuracy: 0.6844 - val_loss: 0.9655 - val_accuracy: 0.6539 - lr: 5.0000e-04\n",
      "Epoch 68/4000\n",
      " 1/10 [==>...........................] - ETA: 0s - loss: 0.8173 - accuracy: 0.6328\n",
      "Epoch 00068: val_loss did not improve from 0.91409\n",
      "10/10 [==============================] - 0s 10ms/step - loss: 0.6953 - accuracy: 0.6885 - val_loss: 0.9732 - val_accuracy: 0.6597 - lr: 5.0000e-04\n",
      "Epoch 69/4000\n",
      " 1/10 [==>...........................] - ETA: 0s - loss: 0.6516 - accuracy: 0.7031\n",
      "Epoch 00069: val_loss did not improve from 0.91409\n",
      "10/10 [==============================] - 0s 10ms/step - loss: 0.7000 - accuracy: 0.6885 - val_loss: 0.9834 - val_accuracy: 0.6558 - lr: 5.0000e-04\n",
      "Epoch 70/4000\n",
      " 1/10 [==>...........................] - ETA: 0s - loss: 0.7232 - accuracy: 0.6719\n",
      "Epoch 00070: val_loss did not improve from 0.91409\n",
      "10/10 [==============================] - 0s 10ms/step - loss: 0.7023 - accuracy: 0.6926 - val_loss: 0.9954 - val_accuracy: 0.6520 - lr: 5.0000e-04\n",
      "Epoch 71/4000\n",
      " 1/10 [==>...........................] - ETA: 0s - loss: 0.7170 - accuracy: 0.6406\n",
      "Epoch 00071: val_loss did not improve from 0.91409\n",
      "10/10 [==============================] - 0s 11ms/step - loss: 0.6759 - accuracy: 0.6918 - val_loss: 1.0040 - val_accuracy: 0.6539 - lr: 5.0000e-04\n",
      "Epoch 72/4000\n",
      " 1/10 [==>...........................] - ETA: 0s - loss: 0.7419 - accuracy: 0.6172\n",
      "Epoch 00072: val_loss did not improve from 0.91409\n",
      "10/10 [==============================] - 0s 10ms/step - loss: 0.6895 - accuracy: 0.6893 - val_loss: 1.0041 - val_accuracy: 0.6501 - lr: 5.0000e-04\n",
      "Epoch 73/4000\n",
      " 1/10 [==>...........................] - ETA: 0s - loss: 0.6302 - accuracy: 0.7188\n",
      "Epoch 00073: val_loss did not improve from 0.91409\n",
      "10/10 [==============================] - 0s 11ms/step - loss: 0.6844 - accuracy: 0.6967 - val_loss: 1.0296 - val_accuracy: 0.6463 - lr: 5.0000e-04\n",
      "Epoch 74/4000\n",
      " 1/10 [==>...........................] - ETA: 0s - loss: 0.5977 - accuracy: 0.7266\n",
      "Epoch 00074: val_loss did not improve from 0.91409\n",
      "10/10 [==============================] - 0s 10ms/step - loss: 0.6783 - accuracy: 0.6926 - val_loss: 1.0127 - val_accuracy: 0.6520 - lr: 5.0000e-04\n",
      "Epoch 75/4000\n",
      " 1/10 [==>...........................] - ETA: 0s - loss: 0.6222 - accuracy: 0.7188\n",
      "Epoch 00075: ReduceLROnPlateau reducing learning rate to 0.0002500000118743628.\n",
      "\n",
      "Epoch 00075: val_loss did not improve from 0.91409\n",
      "10/10 [==============================] - 0s 11ms/step - loss: 0.6794 - accuracy: 0.6951 - val_loss: 0.9715 - val_accuracy: 0.6597 - lr: 5.0000e-04\n",
      "Epoch 76/4000\n",
      " 1/10 [==>...........................] - ETA: 0s - loss: 0.7177 - accuracy: 0.6875\n",
      "Epoch 00076: val_loss did not improve from 0.91409\n",
      "10/10 [==============================] - 0s 10ms/step - loss: 0.6726 - accuracy: 0.6959 - val_loss: 0.9827 - val_accuracy: 0.6577 - lr: 2.5000e-04\n",
      "Epoch 77/4000\n",
      " 1/10 [==>...........................] - ETA: 0s - loss: 0.6598 - accuracy: 0.6406\n",
      "Epoch 00077: val_loss did not improve from 0.91409\n",
      "10/10 [==============================] - 0s 11ms/step - loss: 0.6657 - accuracy: 0.7008 - val_loss: 1.0007 - val_accuracy: 0.6577 - lr: 2.5000e-04\n",
      "Epoch 78/4000\n",
      " 1/10 [==>...........................] - ETA: 0s - loss: 0.5848 - accuracy: 0.7422\n",
      "Epoch 00078: val_loss did not improve from 0.91409\n",
      "10/10 [==============================] - 0s 11ms/step - loss: 0.6614 - accuracy: 0.6910 - val_loss: 1.0113 - val_accuracy: 0.6616 - lr: 2.5000e-04\n",
      "Epoch 79/4000\n",
      " 1/10 [==>...........................] - ETA: 0s - loss: 0.6347 - accuracy: 0.7266\n",
      "Epoch 00079: val_loss did not improve from 0.91409\n",
      "10/10 [==============================] - 0s 10ms/step - loss: 0.6625 - accuracy: 0.7000 - val_loss: 1.0174 - val_accuracy: 0.6597 - lr: 2.5000e-04\n",
      "Epoch 80/4000\n",
      " 1/10 [==>...........................] - ETA: 0s - loss: 0.7238 - accuracy: 0.6797\n",
      "Epoch 00080: val_loss did not improve from 0.91409\n",
      "10/10 [==============================] - 0s 10ms/step - loss: 0.6680 - accuracy: 0.6943 - val_loss: 1.0174 - val_accuracy: 0.6577 - lr: 2.5000e-04\n",
      "Epoch 81/4000\n",
      " 1/10 [==>...........................] - ETA: 0s - loss: 0.6872 - accuracy: 0.7188\n",
      "Epoch 00081: val_loss did not improve from 0.91409\n",
      "10/10 [==============================] - 0s 10ms/step - loss: 0.6615 - accuracy: 0.6893 - val_loss: 1.0182 - val_accuracy: 0.6577 - lr: 2.5000e-04\n",
      "Epoch 82/4000\n",
      " 1/10 [==>...........................] - ETA: 0s - loss: 0.6282 - accuracy: 0.7266\n",
      "Epoch 00082: val_loss did not improve from 0.91409\n",
      "10/10 [==============================] - 0s 12ms/step - loss: 0.6569 - accuracy: 0.7016 - val_loss: 1.0268 - val_accuracy: 0.6558 - lr: 2.5000e-04\n",
      "Epoch 83/4000\n",
      " 1/10 [==>...........................] - ETA: 0s - loss: 0.6147 - accuracy: 0.7266\n",
      "Epoch 00083: val_loss did not improve from 0.91409\n",
      "10/10 [==============================] - 0s 10ms/step - loss: 0.6696 - accuracy: 0.6975 - val_loss: 1.0277 - val_accuracy: 0.6577 - lr: 2.5000e-04\n",
      "Epoch 84/4000\n",
      " 1/10 [==>...........................] - ETA: 0s - loss: 0.5896 - accuracy: 0.6719\n",
      "Epoch 00084: val_loss did not improve from 0.91409\n",
      "10/10 [==============================] - 0s 11ms/step - loss: 0.6435 - accuracy: 0.7008 - val_loss: 1.0297 - val_accuracy: 0.6577 - lr: 2.5000e-04\n",
      "Epoch 85/4000\n",
      " 1/10 [==>...........................] - ETA: 0s - loss: 0.7162 - accuracy: 0.6641\n",
      "Epoch 00085: val_loss did not improve from 0.91409\n",
      "10/10 [==============================] - 0s 10ms/step - loss: 0.6574 - accuracy: 0.6910 - val_loss: 1.0381 - val_accuracy: 0.6597 - lr: 2.5000e-04\n",
      "Epoch 00085: early stopping\n"
     ]
    }
   ],
   "source": [
    "history = model.fit(X_train, y_train, epochs=4000, batch_size=128, validation_split=0.3, callbacks=callbacks)"
   ]
  },
  {
   "cell_type": "markdown",
   "metadata": {},
   "source": [
    "#### Now, we can visualize the history of the model fit "
   ]
  },
  {
   "cell_type": "code",
   "execution_count": 202,
   "metadata": {},
   "outputs": [
    {
     "data": {
      "image/png": "[encoded data removed]",
      "text/plain": [
       "<Figure size 432x288 with 1 Axes>"
      ]
     },
     "metadata": {
      "needs_background": "light"
     },
     "output_type": "display_data"
    }
   ],
   "source": [
    "# summarize history for loss\n",
    "plt.plot(history.history['loss'])\n",
    "plt.plot(history.history['val_loss'])\n",
    "plt.title('model loss')\n",
    "plt.ylabel('loss')\n",
    "plt.xlabel('epoch')\n",
    "plt.legend(['train', 'test'], loc='upper left')\n",
    "plt.show()"
   ]
  },
  {
   "cell_type": "markdown",
   "metadata": {},
   "source": [
    "#### ROC plot"
   ]
  },
  {
   "cell_type": "code",
   "execution_count": 203,
   "metadata": {},
   "outputs": [
    {
     "name": "stdout",
     "output_type": "stream",
     "text": [
      "[0. 1. 0. 0. 0. 0. 1. 0. 0. 0. 1. 0. 0. 0. 0. 1. 0. 0. 0. 0.]\n",
      "[0.39 0.5  0.11 0.   0.   0.23 0.55 0.23 0.   0.   0.43 0.49 0.08 0.\n",
      " 0.   0.32 0.52 0.16 0.   0.  ]\n"
     ]
    }
   ],
   "source": [
    "from sklearn.metrics import roc_curve\n",
    "y_test_flat = y_test.flatten()\n",
    "y_pred_flat = model.predict(X_test).flatten()\n",
    "\n",
    "print(y_test_flat[:20])\n",
    "print(np.round_(y_pred_flat[:20], decimals = 2))\n",
    "\n",
    "fpr_keras, tpr_keras, thresholds_keras = roc_curve(y_test.flat, y_pred_flat)"
   ]
  },
  {
   "cell_type": "code",
   "execution_count": 204,
   "metadata": {},
   "outputs": [
    {
     "name": "stdout",
     "output_type": "stream",
     "text": [
      "0.8969271442236156\n"
     ]
    }
   ],
   "source": [
    "from sklearn.metrics import auc\n",
    "auc_keras = auc(fpr_keras, tpr_keras)\n",
    "print(auc_keras)"
   ]
  },
  {
   "cell_type": "code",
   "execution_count": 205,
   "metadata": {},
   "outputs": [
    {
     "data": {
      "image/png": "[encoded data removed]",
      "text/plain": [
       "<Figure size 432x288 with 1 Axes>"
      ]
     },
     "metadata": {
      "needs_background": "light"
     },
     "output_type": "display_data"
    }
   ],
   "source": [
    "plt.figure(1)\n",
    "plt.plot([0, 1], [0, 1], 'k--')\n",
    "plt.plot(fpr_keras, tpr_keras, label='Keras (area = {:.3f})'.format(auc_keras))\n",
    "#plt.plot(fpr_rf, tpr_rf, label='RF (area = {:.3f})'.format(auc_rf))\n",
    "plt.xlabel('False positive rate')\n",
    "plt.ylabel('True positive rate')\n",
    "plt.title('cnn class ROC curve')\n",
    "plt.legend(loc='best')\n",
    "plt.show()"
   ]
  },
  {
   "cell_type": "markdown",
   "metadata": {},
   "source": [
    "####  Load the best model and test the predictions. First a couple of ones and then over the samples\n",
    "\n",
    "First, we test the predictions on train sample just to check that the model at least predict well what is actually fitting. Later we predict on the test sample to explore the level of extrapolation of the model"
   ]
  },
  {
   "cell_type": "code",
   "execution_count": 206,
   "metadata": {},
   "outputs": [],
   "source": [
    "model_from_file = load_model(filepath)"
   ]
  },
  {
   "cell_type": "code",
   "execution_count": 207,
   "metadata": {},
   "outputs": [
    {
     "data": {
      "text/plain": [
       "array([[0., 0., 0., 0., 1.],\n",
       "       [0., 1., 0., 0., 0.],\n",
       "       [1., 0., 0., 0., 0.],\n",
       "       [1., 0., 0., 0., 0.],\n",
       "       [0., 1., 0., 0., 0.],\n",
       "       [0., 0., 0., 0., 1.],\n",
       "       [0., 0., 0., 0., 1.],\n",
       "       [0., 0., 0., 0., 1.],\n",
       "       [0., 1., 0., 0., 0.],\n",
       "       [1., 0., 0., 0., 0.]])"
      ]
     },
     "execution_count": 207,
     "metadata": {},
     "output_type": "execute_result"
    }
   ],
   "source": [
    "y_train[:10]"
   ]
  },
  {
   "cell_type": "code",
   "execution_count": 208,
   "metadata": {},
   "outputs": [
    {
     "data": {
      "text/plain": [
       "array([[0.01, 0.05, 0.01, 0.  , 0.92],\n",
       "       [0.27, 0.52, 0.19, 0.  , 0.01],\n",
       "       [0.26, 0.49, 0.22, 0.  , 0.03],\n",
       "       [0.27, 0.53, 0.19, 0.  , 0.01],\n",
       "       [0.26, 0.6 , 0.13, 0.  , 0.  ],\n",
       "       [0.  , 0.  , 0.  , 0.  , 1.  ],\n",
       "       [0.  , 0.  , 0.  , 0.  , 1.  ],\n",
       "       [0.01, 0.04, 0.01, 0.  , 0.95],\n",
       "       [0.29, 0.56, 0.15, 0.  , 0.  ],\n",
       "       [0.26, 0.5 , 0.21, 0.  , 0.02]], dtype=float32)"
      ]
     },
     "execution_count": 208,
     "metadata": {},
     "output_type": "execute_result"
    }
   ],
   "source": [
    "pred = model_from_file.predict(X_train[:10])\n",
    "np.round_(pred, decimals = 2) "
   ]
  },
  {
   "cell_type": "code",
   "execution_count": 209,
   "metadata": {},
   "outputs": [
    {
     "data": {
      "text/plain": [
       "array([[0., 0., 0., 0., 1.],\n",
       "       [0., 1., 0., 0., 0.],\n",
       "       [0., 1., 0., 0., 0.],\n",
       "       [0., 1., 0., 0., 0.],\n",
       "       [0., 0., 0., 0., 1.],\n",
       "       [0., 0., 0., 0., 1.],\n",
       "       [0., 0., 1., 0., 0.],\n",
       "       [0., 0., 0., 0., 1.],\n",
       "       [0., 1., 0., 0., 0.],\n",
       "       [0., 0., 0., 0., 1.]])"
      ]
     },
     "execution_count": 209,
     "metadata": {},
     "output_type": "execute_result"
    }
   ],
   "source": [
    "y_test[50:60]"
   ]
  },
  {
   "cell_type": "code",
   "execution_count": 210,
   "metadata": {},
   "outputs": [
    {
     "data": {
      "text/plain": [
       "array([[0.26, 0.43, 0.24, 0.01, 0.06],\n",
       "       [0.26, 0.52, 0.2 , 0.  , 0.02],\n",
       "       [0.22, 0.37, 0.24, 0.04, 0.12],\n",
       "       [0.26, 0.49, 0.22, 0.  , 0.03],\n",
       "       [0.03, 0.09, 0.03, 0.01, 0.85],\n",
       "       [0.16, 0.34, 0.19, 0.05, 0.26],\n",
       "       [0.25, 0.62, 0.13, 0.  , 0.  ],\n",
       "       [0.  , 0.  , 0.  , 0.  , 1.  ],\n",
       "       [0.26, 0.48, 0.23, 0.  , 0.03],\n",
       "       [0.  , 0.01, 0.  , 0.  , 0.98]], dtype=float32)"
      ]
     },
     "execution_count": 210,
     "metadata": {},
     "output_type": "execute_result"
    }
   ],
   "source": [
    "pred = model_from_file.predict(X_test[50:60])\n",
    "np.round_(pred, decimals = 2) "
   ]
  },
  {
   "cell_type": "markdown",
   "metadata": {},
   "source": [
    "#### evaluate model on train"
   ]
  },
  {
   "cell_type": "code",
   "execution_count": 211,
   "metadata": {},
   "outputs": [
    {
     "name": "stdout",
     "output_type": "stream",
     "text": [
      "loss: 0.82\n",
      "accuracy: 66.55%\n"
     ]
    }
   ],
   "source": [
    "# evaluate the model\n",
    "scores = model_from_file.evaluate(X_train, y_train, verbose=0)\n",
    "print(\"%s: %.2f\" % (model_from_file.metrics_names[0], scores[0]))\n",
    "print(\"%s: %.2f%%\" % (model_from_file.metrics_names[1], scores[1]*100))"
   ]
  },
  {
   "cell_type": "markdown",
   "metadata": {},
   "source": [
    "#### evaluate model on test"
   ]
  },
  {
   "cell_type": "code",
   "execution_count": 212,
   "metadata": {},
   "outputs": [
    {
     "name": "stdout",
     "output_type": "stream",
     "text": [
      "loss: 0.92\n",
      "accuracy: 64.95%\n"
     ]
    }
   ],
   "source": [
    "# evaluate the model\n",
    "scores = model_from_file.evaluate(X_test, y_test, verbose=0)\n",
    "print(\"%s: %.2f\" % (model_from_file.metrics_names[0], scores[0]))\n",
    "print(\"%s: %.2f%%\" % (model_from_file.metrics_names[1], scores[1]*100))"
   ]
  },
  {
   "cell_type": "code",
   "execution_count": null,
   "metadata": {},
   "outputs": [],
   "source": []
  }
 ],
 "metadata": {
  "kernelspec": {
   "display_name": "Python 3",
   "language": "python",
   "name": "python3"
  },
  "language_info": {
   "codemirror_mode": {
    "name": "ipython",
    "version": 3
   },
   "file_extension": ".py",
   "mimetype": "text/x-python",
   "name": "python",
   "nbconvert_exporter": "python",
   "pygments_lexer": "ipython3",
   "version": "3.7.7"
  }
 },
 "nbformat": 4,
 "nbformat_minor": 4
}
